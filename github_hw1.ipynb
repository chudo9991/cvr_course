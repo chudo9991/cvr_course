{
 "cells": [
  {
   "cell_type": "markdown",
   "metadata": {
    "id": "V3qVZg7KGA4m"
   },
   "source": [
    "# Домашнее задание\n",
    "Домашнее задание выполнять в этой тетрадке. \n",
    "\n",
    "- [ ] Сделать fork репозитория cvr_cource (https://github.com/StarkitRobots/cvr_course) - 1 балл\n",
    "- [ ] Создать ветку update_readme - 1 балл\n",
    "- [ ] Добавить одну строчку в README.md \n",
    "- [ ] Запушить (git push) изменения в ветку update_readme - 3 балла\n",
    "- [ ] Слить (merge) ветку update_readme в ветку develop - 1 балл\n",
    "- [ ] Сохранить эту тетрадку с выполненной домашкой себе в репозиторий в ветку develop - 3 балла\n",
    "- [ ] Слить (merge) ветку develop в ветку main - 1 балл"
   ]
  },
  {
   "cell_type": "markdown",
   "metadata": {
    "id": "XR_HY96dGA4q"
   },
   "source": [
    "Материалы к семинару:\n",
    "1. [Удачная модель ветвления](https://m.habr.com/ru/post/106912/)\n",
    "2. [Зачем нужен Git](https://guides.hexlet.io/git-guide/)\n",
    "3. [Самые популярные ошибки и их решения](https://tproger.ru/translations/most-common-git-screwupsquestions-and-solutions/)\n",
    "4. [Ветвление](https://git-scm.com/book/ru/v2/%D0%92%D0%B5%D1%82%D0%B2%D0%BB%D0%B5%D0%BD%D0%B8%D0%B5-%D0%B2-Git-%D0%9E-%D0%B2%D0%B5%D1%82%D0%B2%D0%BB%D0%B5%D0%BD%D0%B8%D0%B8-%D0%B2-%D0%B4%D0%B2%D1%83%D1%85-%D1%81%D0%BB%D0%BE%D0%B2%D0%B0%D1%85)\n",
    "5. [Инструкция по всему Git](https://git-scm.com/book/ru/v2)\n",
    "6. [Приложение для обучения Git](https://learngitbranching.js.org/?locale=ru_RU)"
   ]
  },
  {
   "cell_type": "code",
   "execution_count": null,
   "metadata": {},
   "outputs": [],
   "source": [
    "# Ребята! После колнирования репозитория тетрадка оказывается вне репозитория! Её надо руками переносить! Задача некорректно поставлена."
   ]
  },
  {
   "cell_type": "code",
   "execution_count": 2,
   "metadata": {
    "id": "v_XJepSCGA4r"
   },
   "outputs": [
    {
     "name": "stderr",
     "output_type": "stream",
     "text": [
      "Cloning into 'cvr_course'...\n"
     ]
    }
   ],
   "source": [
    "# fork сделал на github ручками\n",
    "!git clone https://github.com/chudo9991/cvr_course.git"
   ]
  },
  {
   "cell_type": "code",
   "execution_count": 4,
   "metadata": {},
   "outputs": [
    {
     "name": "stdout",
     "output_type": "stream",
     "text": [
      "c:\\Users\\Admin\\Documents\\КПК\\cvr_course\n"
     ]
    }
   ],
   "source": [
    "cd cvr_course"
   ]
  },
  {
   "cell_type": "code",
   "execution_count": 5,
   "metadata": {},
   "outputs": [],
   "source": [
    "!git branch update_readme"
   ]
  },
  {
   "cell_type": "code",
   "execution_count": 7,
   "metadata": {},
   "outputs": [
    {
     "name": "stderr",
     "output_type": "stream",
     "text": [
      "Switched to branch 'update_readme'\n"
     ]
    }
   ],
   "source": [
    "!git checkout update_readme"
   ]
  },
  {
   "cell_type": "code",
   "execution_count": 8,
   "metadata": {},
   "outputs": [],
   "source": [
    "# В reamde.md добавлена одна строка в начале\n",
    "!git add README.md"
   ]
  },
  {
   "cell_type": "code",
   "execution_count": 9,
   "metadata": {},
   "outputs": [
    {
     "name": "stdout",
     "output_type": "stream",
     "text": [
      "[update_readme 8a03c87] update README.md\n",
      " 1 file changed, 1 insertion(+)\n"
     ]
    }
   ],
   "source": [
    "!git commit -m \"update README.md\""
   ]
  },
  {
   "cell_type": "code",
   "execution_count": 11,
   "metadata": {},
   "outputs": [
    {
     "name": "stdout",
     "output_type": "stream",
     "text": [
      "Branch 'update_readme' set up to track remote branch 'update_readme' from 'origin'.\n"
     ]
    },
    {
     "name": "stderr",
     "output_type": "stream",
     "text": [
      "remote: \n",
      "remote: Create a pull request for 'update_readme' on GitHub by visiting:        \n",
      "remote:      https://github.com/chudo9991/cvr_course/pull/new/update_readme        \n",
      "remote: \n",
      "To https://github.com/chudo9991/cvr_course.git\n",
      " * [new branch]      update_readme -> update_readme\n"
     ]
    }
   ],
   "source": [
    "!git push --set-upstream origin update_readme"
   ]
  },
  {
   "cell_type": "code",
   "execution_count": 12,
   "metadata": {},
   "outputs": [
    {
     "name": "stdout",
     "output_type": "stream",
     "text": [
      "Branch 'develop' set up to track remote branch 'develop' from 'origin'.\n"
     ]
    },
    {
     "name": "stderr",
     "output_type": "stream",
     "text": [
      "Switched to a new branch 'develop'\n"
     ]
    }
   ],
   "source": [
    "!git checkout develop"
   ]
  },
  {
   "cell_type": "code",
   "execution_count": 13,
   "metadata": {},
   "outputs": [
    {
     "name": "stdout",
     "output_type": "stream",
     "text": [
      "Updating 85a8f0a..8a03c87\n",
      "Fast-forward\n",
      " README.md                                          |     1 +\n",
      " .../imgs/arrow/vlcsnap-2020-10-21-18h01m22s212.png |   Bin 0 -> 396905 bytes\n",
      " .../imgs/arrow/vlcsnap-2020-10-21-18h01m27s294.png |   Bin 0 -> 349708 bytes\n",
      " .../imgs/arrow/vlcsnap-2020-10-21-18h01m29s941.png |   Bin 0 -> 358518 bytes\n",
      " .../imgs/arrow/vlcsnap-2020-10-21-18h01m33s362.png |   Bin 0 -> 336322 bytes\n",
      " .../imgs/arrow/vlcsnap-2020-10-21-18h01m36s056.png |   Bin 0 -> 316925 bytes\n",
      " .../imgs/arrow/vlcsnap-2020-10-21-18h01m41s874.png |   Bin 0 -> 312812 bytes\n",
      " .../imgs/arrow/vlcsnap-2020-10-21-18h01m44s163.png |   Bin 0 -> 334378 bytes\n",
      " .../imgs/arrow/vlcsnap-2020-10-21-18h01m46s644.png |   Bin 0 -> 314245 bytes\n",
      " .../imgs/arrow/vlcsnap-2020-10-21-18h01m49s487.png |   Bin 0 -> 377742 bytes\n",
      " .../imgs/arrow/vlcsnap-2020-10-21-18h01m51s638.png |   Bin 0 -> 283849 bytes\n",
      " data/imgs/calibrationdat/left-0000.png             |   Bin 0 -> 123640 bytes\n",
      " data/imgs/calibrationdat/left-0001.png             |   Bin 0 -> 120137 bytes\n",
      " data/imgs/calibrationdat/left-0002.png             |   Bin 0 -> 117813 bytes\n",
      " data/imgs/calibrationdat/left-0003.png             |   Bin 0 -> 116483 bytes\n",
      " data/imgs/calibrationdat/left-0004.png             |   Bin 0 -> 115700 bytes\n",
      " data/imgs/calibrationdat/left-0005.png             |   Bin 0 -> 109069 bytes\n",
      " data/imgs/calibrationdat/left-0006.png             |   Bin 0 -> 102569 bytes\n",
      " data/imgs/calibrationdat/left-0007.png             |   Bin 0 -> 105641 bytes\n",
      " data/imgs/calibrationdat/left.yaml                 |    26 +\n",
      " data/imgs/calibrationdat/ost.txt                   |    60 +\n",
      " data/imgs/calibrationdat/right-0000.png            |   Bin 0 -> 131095 bytes\n",
      " data/imgs/calibrationdat/right-0001.png            |   Bin 0 -> 128371 bytes\n",
      " data/imgs/calibrationdat/right-0002.png            |   Bin 0 -> 126136 bytes\n",
      " data/imgs/calibrationdat/right-0003.png            |   Bin 0 -> 126472 bytes\n",
      " data/imgs/calibrationdat/right-0004.png            |   Bin 0 -> 128057 bytes\n",
      " data/imgs/calibrationdat/right-0005.png            |   Bin 0 -> 122816 bytes\n",
      " data/imgs/calibrationdat/right-0006.png            |   Bin 0 -> 117303 bytes\n",
      " data/imgs/calibrationdat/right-0007.png            |   Bin 0 -> 116714 bytes\n",
      " data/imgs/calibrationdat/right.yaml                |    26 +\n",
      " data/imgs/calibrationdata/left-0000.png            |   Bin 0 -> 123640 bytes\n",
      " data/imgs/calibrationdata/left-0001.png            |   Bin 0 -> 120137 bytes\n",
      " data/imgs/calibrationdata/left-0002.png            |   Bin 0 -> 117813 bytes\n",
      " data/imgs/calibrationdata/left-0003.png            |   Bin 0 -> 116483 bytes\n",
      " data/imgs/calibrationdata/left-0004.png            |   Bin 0 -> 115700 bytes\n",
      " data/imgs/calibrationdata/left-0005.png            |   Bin 0 -> 109069 bytes\n",
      " data/imgs/calibrationdata/left-0006.png            |   Bin 0 -> 102569 bytes\n",
      " data/imgs/calibrationdata/left-0007.png            |   Bin 0 -> 105641 bytes\n",
      " data/imgs/calibrationdata/left-0008.png            |   Bin 0 -> 141116 bytes\n",
      " data/imgs/calibrationdata/left-0009.png            |   Bin 0 -> 136459 bytes\n",
      " data/imgs/calibrationdata/left-0010.png            |   Bin 0 -> 124242 bytes\n",
      " data/imgs/calibrationdata/left-0011.png            |   Bin 0 -> 114001 bytes\n",
      " data/imgs/calibrationdata/left-0012.png            |   Bin 0 -> 109422 bytes\n",
      " data/imgs/calibrationdata/left-0013.png            |   Bin 0 -> 105561 bytes\n",
      " data/imgs/calibrationdata/left-0014.png            |   Bin 0 -> 106901 bytes\n",
      " data/imgs/calibrationdata/left-0015.png            |   Bin 0 -> 110284 bytes\n",
      " data/imgs/calibrationdata/left-0016.png            |   Bin 0 -> 105187 bytes\n",
      " data/imgs/calibrationdata/left-0017.png            |   Bin 0 -> 100095 bytes\n",
      " data/imgs/calibrationdata/left-0018.png            |   Bin 0 -> 101181 bytes\n",
      " data/imgs/calibrationdata/left-0019.png            |   Bin 0 -> 115025 bytes\n",
      " data/imgs/calibrationdata/left-0020.png            |   Bin 0 -> 120671 bytes\n",
      " data/imgs/calibrationdata/left-0021.png            |   Bin 0 -> 118957 bytes\n",
      " data/imgs/calibrationdata/left-0022.png            |   Bin 0 -> 116971 bytes\n",
      " data/imgs/calibrationdata/left-0023.png            |   Bin 0 -> 113551 bytes\n",
      " data/imgs/calibrationdata/left-0024.png            |   Bin 0 -> 112577 bytes\n",
      " data/imgs/calibrationdata/left-0025.png            |   Bin 0 -> 117905 bytes\n",
      " data/imgs/calibrationdata/left-0026.png            |   Bin 0 -> 118234 bytes\n",
      " data/imgs/calibrationdata/left-0027.png            |   Bin 0 -> 122383 bytes\n",
      " data/imgs/calibrationdata/left-0028.png            |   Bin 0 -> 128817 bytes\n",
      " data/imgs/calibrationdata/left-0029.png            |   Bin 0 -> 119210 bytes\n",
      " data/imgs/calibrationdata/left-0030.png            |   Bin 0 -> 116863 bytes\n",
      " data/imgs/calibrationdata/left-0031.png            |   Bin 0 -> 124429 bytes\n",
      " data/imgs/calibrationdata/left-0032.png            |   Bin 0 -> 122736 bytes\n",
      " data/imgs/calibrationdata/left-0033.png            |   Bin 0 -> 136447 bytes\n",
      " data/imgs/calibrationdata/left-0034.png            |   Bin 0 -> 138227 bytes\n",
      " data/imgs/calibrationdata/left-0035.png            |   Bin 0 -> 136372 bytes\n",
      " data/imgs/calibrationdata/left-0036.png            |   Bin 0 -> 135901 bytes\n",
      " data/imgs/calibrationdata/left-0037.png            |   Bin 0 -> 115639 bytes\n",
      " data/imgs/calibrationdata/left-0038.png            |   Bin 0 -> 110100 bytes\n",
      " data/imgs/calibrationdata/left-0039.png            |   Bin 0 -> 113490 bytes\n",
      " data/imgs/calibrationdata/left-0040.png            |   Bin 0 -> 108374 bytes\n",
      " data/imgs/calibrationdata/left-0041.png            |   Bin 0 -> 108935 bytes\n",
      " data/imgs/calibrationdata/left-0042.png            |   Bin 0 -> 124106 bytes\n",
      " data/imgs/calibrationdata/left-0043.png            |   Bin 0 -> 124705 bytes\n",
      " data/imgs/calibrationdata/left-0044.png            |   Bin 0 -> 126611 bytes\n",
      " data/imgs/calibrationdata/left-0045.png            |   Bin 0 -> 131324 bytes\n",
      " data/imgs/calibrationdata/left-0046.png            |   Bin 0 -> 137172 bytes\n",
      " data/imgs/calibrationdata/left-0047.png            |   Bin 0 -> 120814 bytes\n",
      " data/imgs/calibrationdata/left-0048.png            |   Bin 0 -> 122132 bytes\n",
      " data/imgs/calibrationdata/left-0049.png            |   Bin 0 -> 122165 bytes\n",
      " data/imgs/calibrationdata/left-0050.png            |   Bin 0 -> 115569 bytes\n",
      " data/imgs/calibrationdata/left-0051.png            |   Bin 0 -> 120122 bytes\n",
      " data/imgs/calibrationdata/left-0052.png            |   Bin 0 -> 113411 bytes\n",
      " data/imgs/calibrationdata/left-0053.png            |   Bin 0 -> 113350 bytes\n",
      " data/imgs/calibrationdata/left-0054.png            |   Bin 0 -> 114341 bytes\n",
      " data/imgs/calibrationdata/left-0055.png            |   Bin 0 -> 113677 bytes\n",
      " data/imgs/calibrationdata/left-0056.png            |   Bin 0 -> 112071 bytes\n",
      " data/imgs/calibrationdata/left-0057.png            |   Bin 0 -> 114458 bytes\n",
      " data/imgs/calibrationdata/left-0058.png            |   Bin 0 -> 117416 bytes\n",
      " data/imgs/calibrationdata/left-0059.png            |   Bin 0 -> 117442 bytes\n",
      " data/imgs/calibrationdata/left-0060.png            |   Bin 0 -> 119758 bytes\n",
      " data/imgs/calibrationdata/left-0061.png            |   Bin 0 -> 120835 bytes\n",
      " data/imgs/calibrationdata/left-0062.png            |   Bin 0 -> 125512 bytes\n",
      " data/imgs/calibrationdata/left-0063.png            |   Bin 0 -> 126910 bytes\n",
      " data/imgs/calibrationdata/left-0064.png            |   Bin 0 -> 126076 bytes\n",
      " data/imgs/calibrationdata/left-0065.png            |   Bin 0 -> 129919 bytes\n",
      " data/imgs/calibrationdata/left-0066.png            |   Bin 0 -> 130060 bytes\n",
      " data/imgs/calibrationdata/left.yaml                |    26 +\n",
      " data/imgs/calibrationdata/ost.txt                  |    60 +\n",
      " data/imgs/calibrationdata/right-0000.png           |   Bin 0 -> 131095 bytes\n",
      " data/imgs/calibrationdata/right-0001.png           |   Bin 0 -> 128371 bytes\n",
      " data/imgs/calibrationdata/right-0002.png           |   Bin 0 -> 126136 bytes\n",
      " data/imgs/calibrationdata/right-0003.png           |   Bin 0 -> 126472 bytes\n",
      " data/imgs/calibrationdata/right-0004.png           |   Bin 0 -> 128057 bytes\n",
      " data/imgs/calibrationdata/right-0005.png           |   Bin 0 -> 122816 bytes\n",
      " data/imgs/calibrationdata/right-0006.png           |   Bin 0 -> 117303 bytes\n",
      " data/imgs/calibrationdata/right-0007.png           |   Bin 0 -> 116714 bytes\n",
      " data/imgs/calibrationdata/right-0008.png           |   Bin 0 -> 146702 bytes\n",
      " data/imgs/calibrationdata/right-0009.png           |   Bin 0 -> 139024 bytes\n",
      " data/imgs/calibrationdata/right-0010.png           |   Bin 0 -> 126907 bytes\n",
      " data/imgs/calibrationdata/right-0011.png           |   Bin 0 -> 119445 bytes\n",
      " data/imgs/calibrationdata/right-0012.png           |   Bin 0 -> 110275 bytes\n",
      " data/imgs/calibrationdata/right-0013.png           |   Bin 0 -> 108122 bytes\n",
      " data/imgs/calibrationdata/right-0014.png           |   Bin 0 -> 110135 bytes\n",
      " data/imgs/calibrationdata/right-0015.png           |   Bin 0 -> 111730 bytes\n",
      " data/imgs/calibrationdata/right-0016.png           |   Bin 0 -> 114028 bytes\n",
      " data/imgs/calibrationdata/right-0017.png           |   Bin 0 -> 109004 bytes\n",
      " data/imgs/calibrationdata/right-0018.png           |   Bin 0 -> 115402 bytes\n",
      " data/imgs/calibrationdata/right-0019.png           |   Bin 0 -> 125613 bytes\n",
      " data/imgs/calibrationdata/right-0020.png           |   Bin 0 -> 129118 bytes\n",
      " data/imgs/calibrationdata/right-0021.png           |   Bin 0 -> 126820 bytes\n",
      " data/imgs/calibrationdata/right-0022.png           |   Bin 0 -> 125376 bytes\n",
      " data/imgs/calibrationdata/right-0023.png           |   Bin 0 -> 122389 bytes\n",
      " data/imgs/calibrationdata/right-0024.png           |   Bin 0 -> 120899 bytes\n",
      " data/imgs/calibrationdata/right-0025.png           |   Bin 0 -> 125639 bytes\n",
      " data/imgs/calibrationdata/right-0026.png           |   Bin 0 -> 126691 bytes\n",
      " data/imgs/calibrationdata/right-0027.png           |   Bin 0 -> 130214 bytes\n",
      " data/imgs/calibrationdata/right-0028.png           |   Bin 0 -> 137940 bytes\n",
      " data/imgs/calibrationdata/right-0029.png           |   Bin 0 -> 130779 bytes\n",
      " data/imgs/calibrationdata/right-0030.png           |   Bin 0 -> 130377 bytes\n",
      " data/imgs/calibrationdata/right-0031.png           |   Bin 0 -> 133930 bytes\n",
      " data/imgs/calibrationdata/right-0032.png           |   Bin 0 -> 131570 bytes\n",
      " data/imgs/calibrationdata/right-0033.png           |   Bin 0 -> 138973 bytes\n",
      " data/imgs/calibrationdata/right-0034.png           |   Bin 0 -> 139777 bytes\n",
      " data/imgs/calibrationdata/right-0035.png           |   Bin 0 -> 138862 bytes\n",
      " data/imgs/calibrationdata/right-0036.png           |   Bin 0 -> 141720 bytes\n",
      " data/imgs/calibrationdata/right-0037.png           |   Bin 0 -> 125744 bytes\n",
      " data/imgs/calibrationdata/right-0038.png           |   Bin 0 -> 114764 bytes\n",
      " data/imgs/calibrationdata/right-0039.png           |   Bin 0 -> 111783 bytes\n",
      " data/imgs/calibrationdata/right-0040.png           |   Bin 0 -> 113085 bytes\n",
      " data/imgs/calibrationdata/right-0041.png           |   Bin 0 -> 114765 bytes\n",
      " data/imgs/calibrationdata/right-0042.png           |   Bin 0 -> 133413 bytes\n",
      " data/imgs/calibrationdata/right-0043.png           |   Bin 0 -> 133440 bytes\n",
      " data/imgs/calibrationdata/right-0044.png           |   Bin 0 -> 138617 bytes\n",
      " data/imgs/calibrationdata/right-0045.png           |   Bin 0 -> 142794 bytes\n",
      " data/imgs/calibrationdata/right-0046.png           |   Bin 0 -> 142960 bytes\n",
      " data/imgs/calibrationdata/right-0047.png           |   Bin 0 -> 132822 bytes\n",
      " data/imgs/calibrationdata/right-0048.png           |   Bin 0 -> 128645 bytes\n",
      " data/imgs/calibrationdata/right-0049.png           |   Bin 0 -> 122420 bytes\n",
      " data/imgs/calibrationdata/right-0050.png           |   Bin 0 -> 109582 bytes\n",
      " data/imgs/calibrationdata/right-0051.png           |   Bin 0 -> 129554 bytes\n",
      " data/imgs/calibrationdata/right-0052.png           |   Bin 0 -> 120818 bytes\n",
      " data/imgs/calibrationdata/right-0053.png           |   Bin 0 -> 114488 bytes\n",
      " data/imgs/calibrationdata/right-0054.png           |   Bin 0 -> 116295 bytes\n",
      " data/imgs/calibrationdata/right-0055.png           |   Bin 0 -> 116759 bytes\n",
      " data/imgs/calibrationdata/right-0056.png           |   Bin 0 -> 119349 bytes\n",
      " data/imgs/calibrationdata/right-0057.png           |   Bin 0 -> 122425 bytes\n",
      " data/imgs/calibrationdata/right-0058.png           |   Bin 0 -> 124987 bytes\n",
      " data/imgs/calibrationdata/right-0059.png           |   Bin 0 -> 125291 bytes\n",
      " data/imgs/calibrationdata/right-0060.png           |   Bin 0 -> 128124 bytes\n",
      " data/imgs/calibrationdata/right-0061.png           |   Bin 0 -> 127123 bytes\n",
      " data/imgs/calibrationdata/right-0062.png           |   Bin 0 -> 133945 bytes\n",
      " data/imgs/calibrationdata/right-0063.png           |   Bin 0 -> 132417 bytes\n",
      " data/imgs/calibrationdata/right-0064.png           |   Bin 0 -> 131101 bytes\n",
      " data/imgs/calibrationdata/right-0065.png           |   Bin 0 -> 134945 bytes\n",
      " data/imgs/calibrationdata/right-0066.png           |   Bin 0 -> 135285 bytes\n",
      " data/imgs/calibrationdata/right.yaml               |    26 +\n",
      " data/imgs/stereopairs/sp1.jpg                      |   Bin 0 -> 275937 bytes\n",
      " data/imgs/stereopairs/sp2.jpg                      |   Bin 0 -> 303457 bytes\n",
      " data/imgs/stereopairs/sp3.jpg                      |   Bin 0 -> 280814 bytes\n",
      " notebooks/arch_sem1.ipynb                          |   359 +\n",
      " notebooks/cv_hw3.ipynb                             |    51 +\n",
      " notebooks/cv_hw4.ipynb                             |    43 +\n",
      " notebooks/cv_sem3.ipynb                            |   679 +-\n",
      " notebooks/cv_sem4.ipynb                            |  1252 +\n",
      " notebooks/localization_hw8.ipynb                   |   179 +\n",
      " notebooks/nn_hw6.ipynb                             |    68 +\n",
      " notebooks/nn_sem5_pt1.ipynb                        |  1273 +\n",
      " notebooks/nn_sem5_pt2_hw5.ipynb                    |   819 +\n",
      " notebooks/out_file.npz                             |   Bin 0 -> 2239 bytes\n",
      " notebooks/pyntcloud_plot.config.json               |     1 +\n",
      " notebooks/pyntcloud_plot.html                      |   239 +\n",
      " notebooks/pyntcloud_plot.ply                       |    94 +\n",
      " notebooks/pyntcloud_plot_assets/Detector.js        |    78 +\n",
      " notebooks/pyntcloud_plot_assets/OrbitControls.js   |  1040 +\n",
      " notebooks/pyntcloud_plot_assets/PLYLoader.js       |   501 +\n",
      " notebooks/pyntcloud_plot_assets/ball.png           |   Bin 0 -> 3983 bytes\n",
      " notebooks/pyntcloud_plot_assets/circle.png         |   Bin 0 -> 4785 bytes\n",
      " notebooks/pyntcloud_plot_assets/dat.gui.min.js     |     2 +\n",
      " notebooks/pyntcloud_plot_assets/disc.png           |   Bin 0 -> 1399 bytes\n",
      " notebooks/pyntcloud_plot_assets/jquery.min.js      |     4 +\n",
      " notebooks/pyntcloud_plot_assets/pyntcloud_logo.png |   Bin 0 -> 73932 bytes\n",
      " .../pyntcloud_plot_assets/pyntcloud_sprite.png     |   Bin 0 -> 13598 bytes\n",
      " notebooks/pyntcloud_plot_assets/python_logo.png    |   Bin 0 -> 2180 bytes\n",
      " notebooks/pyntcloud_plot_assets/stats.min.js       |     5 +\n",
      " notebooks/pyntcloud_plot_assets/three.min.js       |   865 +\n",
      " notebooks/reconstructed.ply                        | 35523 +++++++++++++++++++\n",
      " notebooks/slam_sem1.ipynb                          |   414 +\n",
      " notebooks/stereo_calibration                       |     1 +\n",
      " presentations/cv_sem2.pdf                          |   Bin 0 -> 5975179 bytes\n",
      " presentations/nn_inside.pdf                        |   Bin 0 -> 1742599 bytes\n",
      " presentations/nn_intro.pdf                         |   Bin 0 -> 6698294 bytes\n",
      " presentations/nn_training.pdf                      |   Bin 0 -> 3769273 bytes\n",
      " 203 files changed, 43237 insertions(+), 478 deletions(-)\n",
      " create mode 100644 data/imgs/arrow/vlcsnap-2020-10-21-18h01m22s212.png\n",
      " create mode 100644 data/imgs/arrow/vlcsnap-2020-10-21-18h01m27s294.png\n",
      " create mode 100644 data/imgs/arrow/vlcsnap-2020-10-21-18h01m29s941.png\n",
      " create mode 100644 data/imgs/arrow/vlcsnap-2020-10-21-18h01m33s362.png\n",
      " create mode 100644 data/imgs/arrow/vlcsnap-2020-10-21-18h01m36s056.png\n",
      " create mode 100644 data/imgs/arrow/vlcsnap-2020-10-21-18h01m41s874.png\n",
      " create mode 100644 data/imgs/arrow/vlcsnap-2020-10-21-18h01m44s163.png\n",
      " create mode 100644 data/imgs/arrow/vlcsnap-2020-10-21-18h01m46s644.png\n",
      " create mode 100644 data/imgs/arrow/vlcsnap-2020-10-21-18h01m49s487.png\n",
      " create mode 100644 data/imgs/arrow/vlcsnap-2020-10-21-18h01m51s638.png\n",
      " create mode 100644 data/imgs/calibrationdat/left-0000.png\n"
     ]
    },
    {
     "name": "stdout",
     "output_type": "stream",
     "text": [
      " create mode 100644 data/imgs/calibrationdat/left-0001.png\n",
      " create mode 100644 data/imgs/calibrationdat/left-0002.png\n",
      " create mode 100644 data/imgs/calibrationdat/left-0003.png\n",
      " create mode 100644 data/imgs/calibrationdat/left-0004.png\n",
      " create mode 100644 data/imgs/calibrationdat/left-0005.png\n",
      " create mode 100644 data/imgs/calibrationdat/left-0006.png\n",
      " create mode 100644 data/imgs/calibrationdat/left-0007.png\n",
      " create mode 100644 data/imgs/calibrationdat/left.yaml\n",
      " create mode 100644 data/imgs/calibrationdat/ost.txt\n",
      " create mode 100644 data/imgs/calibrationdat/right-0000.png\n",
      " create mode 100644 data/imgs/calibrationdat/right-0001.png\n",
      " create mode 100644 data/imgs/calibrationdat/right-0002.png\n",
      " create mode 100644 data/imgs/calibrationdat/right-0003.png\n",
      " create mode 100644 data/imgs/calibrationdat/right-0004.png\n",
      " create mode 100644 data/imgs/calibrationdat/right-0005.png\n",
      " create mode 100644 data/imgs/calibrationdat/right-0006.png\n",
      " create mode 100644 data/imgs/calibrationdat/right-0007.png\n",
      " create mode 100644 data/imgs/calibrationdat/right.yaml\n",
      " create mode 100644 data/imgs/calibrationdata/left-0000.png\n",
      " create mode 100644 data/imgs/calibrationdata/left-0001.png\n",
      " create mode 100644 data/imgs/calibrationdata/left-0002.png\n",
      " create mode 100644 data/imgs/calibrationdata/left-0003.png\n",
      " create mode 100644 data/imgs/calibrationdata/left-0004.png\n",
      " create mode 100644 data/imgs/calibrationdata/left-0005.png\n",
      " create mode 100644 data/imgs/calibrationdata/left-0006.png\n",
      " create mode 100644 data/imgs/calibrationdata/left-0007.png\n",
      " create mode 100644 data/imgs/calibrationdata/left-0008.png\n",
      " create mode 100644 data/imgs/calibrationdata/left-0009.png\n",
      " create mode 100644 data/imgs/calibrationdata/left-0010.png\n",
      " create mode 100644 data/imgs/calibrationdata/left-0011.png\n",
      " create mode 100644 data/imgs/calibrationdata/left-0012.png\n",
      " create mode 100644 data/imgs/calibrationdata/left-0013.png\n",
      " create mode 100644 data/imgs/calibrationdata/left-0014.png\n",
      " create mode 100644 data/imgs/calibrationdata/left-0015.png\n",
      " create mode 100644 data/imgs/calibrationdata/left-0016.png\n",
      " create mode 100644 data/imgs/calibrationdata/left-0017.png\n",
      " create mode 100644 data/imgs/calibrationdata/left-0018.png\n",
      " create mode 100644 data/imgs/calibrationdata/left-0019.png\n",
      " create mode 100644 data/imgs/calibrationdata/left-0020.png\n",
      " create mode 100644 data/imgs/calibrationdata/left-0021.png\n",
      " create mode 100644 data/imgs/calibrationdata/left-0022.png\n",
      " create mode 100644 data/imgs/calibrationdata/left-0023.png\n",
      " create mode 100644 data/imgs/calibrationdata/left-0024.png\n",
      " create mode 100644 data/imgs/calibrationdata/left-0025.png\n",
      " create mode 100644 data/imgs/calibrationdata/left-0026.png\n",
      " create mode 100644 data/imgs/calibrationdata/left-0027.png\n",
      " create mode 100644 data/imgs/calibrationdata/left-0028.png\n",
      " create mode 100644 data/imgs/calibrationdata/left-0029.png\n",
      " create mode 100644 data/imgs/calibrationdata/left-0030.png\n",
      " create mode 100644 data/imgs/calibrationdata/left-0031.png\n",
      " create mode 100644 data/imgs/calibrationdata/left-0032.png\n",
      " create mode 100644 data/imgs/calibrationdata/left-0033.png\n",
      " create mode 100644 data/imgs/calibrationdata/left-0034.png\n",
      " create mode 100644 data/imgs/calibrationdata/left-0035.png\n",
      " create mode 100644 data/imgs/calibrationdata/left-0036.png\n",
      " create mode 100644 data/imgs/calibrationdata/left-0037.png\n",
      " create mode 100644 data/imgs/calibrationdata/left-0038.png\n",
      " create mode 100644 data/imgs/calibrationdata/left-0039.png\n",
      " create mode 100644 data/imgs/calibrationdata/left-0040.png\n",
      " create mode 100644 data/imgs/calibrationdata/left-0041.png\n",
      " create mode 100644 data/imgs/calibrationdata/left-0042.png\n",
      " create mode 100644 data/imgs/calibrationdata/left-0043.png\n",
      " create mode 100644 data/imgs/calibrationdata/left-0044.png\n",
      " create mode 100644 data/imgs/calibrationdata/left-0045.png\n",
      " create mode 100644 data/imgs/calibrationdata/left-0046.png\n",
      " create mode 100644 data/imgs/calibrationdata/left-0047.png\n",
      " create mode 100644 data/imgs/calibrationdata/left-0048.png\n",
      " create mode 100644 data/imgs/calibrationdata/left-0049.png\n",
      " create mode 100644 data/imgs/calibrationdata/left-0050.png\n",
      " create mode 100644 data/imgs/calibrationdata/left-0051.png\n",
      " create mode 100644 data/imgs/calibrationdata/left-0052.png\n",
      " create mode 100644 data/imgs/calibrationdata/left-0053.png\n",
      " create mode 100644 data/imgs/calibrationdata/left-0054.png\n",
      " create mode 100644 data/imgs/calibrationdata/left-0055.png\n",
      " create mode 100644 data/imgs/calibrationdata/left-0056.png\n",
      " create mode 100644 data/imgs/calibrationdata/left-0057.png\n",
      " create mode 100644 data/imgs/calibrationdata/left-0058.png\n",
      " create mode 100644 data/imgs/calibrationdata/left-0059.png\n",
      " create mode 100644 data/imgs/calibrationdata/left-0060.png\n",
      " create mode 100644 data/imgs/calibrationdata/left-0061.png\n",
      " create mode 100644 data/imgs/calibrationdata/left-0062.png\n",
      " create mode 100644 data/imgs/calibrationdata/left-0063.png\n",
      " create mode 100644 data/imgs/calibrationdata/left-0064.png\n",
      " create mode 100644 data/imgs/calibrationdata/left-0065.png\n",
      " create mode 100644 data/imgs/calibrationdata/left-0066.png\n",
      " create mode 100644 data/imgs/calibrationdata/left.yaml\n",
      " create mode 100644 data/imgs/calibrationdata/ost.txt\n",
      " create mode 100644 data/imgs/calibrationdata/right-0000.png\n",
      " create mode 100644 data/imgs/calibrationdata/right-0001.png\n",
      " create mode 100644 data/imgs/calibrationdata/right-0002.png\n",
      " create mode 100644 data/imgs/calibrationdata/right-0003.png\n",
      " create mode 100644 data/imgs/calibrationdata/right-0004.png\n",
      " create mode 100644 data/imgs/calibrationdata/right-0005.png\n",
      " create mode 100644 data/imgs/calibrationdata/right-0006.png\n",
      " create mode 100644 data/imgs/calibrationdata/right-0007.png\n",
      " create mode 100644 data/imgs/calibrationdata/right-0008.png\n",
      " create mode 100644 data/imgs/calibrationdata/right-0009.png\n",
      " create mode 100644 data/imgs/calibrationdata/right-0010.png\n",
      " create mode 100644 data/imgs/calibrationdata/right-0011.png\n",
      " create mode 100644 data/imgs/calibrationdata/right-0012.png\n",
      " create mode 100644 data/imgs/calibrationdata/right-0013.png\n",
      " create mode 100644 data/imgs/calibrationdata/right-0014.png\n",
      " create mode 100644 data/imgs/calibrationdata/right-0015.png\n",
      " create mode 100644 data/imgs/calibrationdata/right-0016.png\n",
      " create mode 100644 data/imgs/calibrationdata/right-0017.png\n",
      " create mode 100644 data/imgs/calibrationdata/right-0018.png\n",
      " create mode 100644 data/imgs/calibrationdata/right-0019.png\n",
      " create mode 100644 data/imgs/calibrationdata/right-0020.png\n",
      " create mode 100644 data/imgs/calibrationdata/right-0021.png\n",
      " create mode 100644 data/imgs/calibrationdata/right-0022.png\n",
      " create mode 100644 data/imgs/calibrationdata/right-0023.png\n",
      " create mode 100644 data/imgs/calibrationdata/right-0024.png\n",
      " create mode 100644 data/imgs/calibrationdata/right-0025.png\n",
      " create mode 100644 data/imgs/calibrationdata/right-0026.png\n",
      " create mode 100644 data/imgs/calibrationdata/right-0027.png\n",
      " create mode 100644 data/imgs/calibrationdata/right-0028.png\n",
      " create mode 100644 data/imgs/calibrationdata/right-0029.png\n",
      " create mode 100644 data/imgs/calibrationdata/right-0030.png\n",
      " create mode 100644 data/imgs/calibrationdata/right-0031.png\n",
      " create mode 100644 data/imgs/calibrationdata/right-0032.png\n",
      " create mode 100644 data/imgs/calibrationdata/right-0033.png\n",
      " create mode 100644 data/imgs/calibrationdata/right-0034.png\n",
      " create mode 100644 data/imgs/calibrationdata/right-0035.png\n",
      " create mode 100644 data/imgs/calibrationdata/right-0036.png\n",
      " create mode 100644 data/imgs/calibrationdata/right-0037.png\n",
      " create mode 100644 data/imgs/calibrationdata/right-0038.png\n",
      " create mode 100644 data/imgs/calibrationdata/right-0039.png\n",
      " create mode 100644 data/imgs/calibrationdata/right-0040.png\n",
      " create mode 100644 data/imgs/calibrationdata/right-0041.png\n",
      " create mode 100644 data/imgs/calibrationdata/right-0042.png\n",
      " create mode 100644 data/imgs/calibrationdata/right-0043.png\n",
      " create mode 100644 data/imgs/calibrationdata/right-0044.png\n",
      " create mode 100644 data/imgs/calibrationdata/right-0045.png\n",
      " create mode 100644 data/imgs/calibrationdata/right-0046.png\n",
      " create mode 100644 data/imgs/calibrationdata/right-0047.png\n",
      " create mode 100644 data/imgs/calibrationdata/right-0048.png\n",
      " create mode 100644 data/imgs/calibrationdata/right-0049.png\n",
      " create mode 100644 data/imgs/calibrationdata/right-0050.png\n",
      " create mode 100644 data/imgs/calibrationdata/right-0051.png\n",
      " create mode 100644 data/imgs/calibrationdata/right-0052.png\n",
      " create mode 100644 data/imgs/calibrationdata/right-0053.png\n",
      " create mode 100644 data/imgs/calibrationdata/right-0054.png\n",
      " create mode 100644 data/imgs/calibrationdata/right-0055.png\n",
      " create mode 100644 data/imgs/calibrationdata/right-0056.png\n",
      " create mode 100644 data/imgs/calibrationdata/right-0057.png\n",
      " create mode 100644 data/imgs/calibrationdata/right-0058.png\n",
      " create mode 100644 data/imgs/calibrationdata/right-0059.png\n",
      " create mode 100644 data/imgs/calibrationdata/right-0060.png\n",
      " create mode 100644 data/imgs/calibrationdata/right-0061.png\n",
      " create mode 100644 data/imgs/calibrationdata/right-0062.png\n",
      " create mode 100644 data/imgs/calibrationdata/right-0063.png\n",
      " create mode 100644 data/imgs/calibrationdata/right-0064.png\n",
      " create mode 100644 data/imgs/calibrationdata/right-0065.png\n",
      " create mode 100644 data/imgs/calibrationdata/right-0066.png\n",
      " create mode 100644 data/imgs/calibrationdata/right.yaml\n",
      " create mode 100644 data/imgs/stereopairs/sp1.jpg\n",
      " create mode 100644 data/imgs/stereopairs/sp2.jpg\n",
      " create mode 100644 data/imgs/stereopairs/sp3.jpg\n",
      " create mode 100644 notebooks/arch_sem1.ipynb\n",
      " create mode 100644 notebooks/cv_hw3.ipynb\n",
      " create mode 100644 notebooks/cv_hw4.ipynb\n",
      " create mode 100644 notebooks/cv_sem4.ipynb\n",
      " create mode 100644 notebooks/localization_hw8.ipynb\n",
      " create mode 100644 notebooks/nn_hw6.ipynb\n",
      " create mode 100644 notebooks/nn_sem5_pt1.ipynb\n",
      " create mode 100644 notebooks/nn_sem5_pt2_hw5.ipynb\n",
      " create mode 100644 notebooks/out_file.npz\n",
      " create mode 100644 notebooks/pyntcloud_plot.config.json\n",
      " create mode 100644 notebooks/pyntcloud_plot.html\n",
      " create mode 100644 notebooks/pyntcloud_plot.ply\n",
      " create mode 100644 notebooks/pyntcloud_plot_assets/Detector.js\n",
      " create mode 100644 notebooks/pyntcloud_plot_assets/OrbitControls.js\n",
      " create mode 100644 notebooks/pyntcloud_plot_assets/PLYLoader.js\n",
      " create mode 100644 notebooks/pyntcloud_plot_assets/ball.png\n",
      " create mode 100644 notebooks/pyntcloud_plot_assets/circle.png\n",
      " create mode 100644 notebooks/pyntcloud_plot_assets/dat.gui.min.js\n",
      " create mode 100644 notebooks/pyntcloud_plot_assets/disc.png\n",
      " create mode 100644 notebooks/pyntcloud_plot_assets/jquery.min.js\n",
      " create mode 100644 notebooks/pyntcloud_plot_assets/pyntcloud_logo.png\n",
      " create mode 100644 notebooks/pyntcloud_plot_assets/pyntcloud_sprite.png\n",
      " create mode 100644 notebooks/pyntcloud_plot_assets/python_logo.png\n",
      " create mode 100644 notebooks/pyntcloud_plot_assets/stats.min.js\n",
      " create mode 100644 notebooks/pyntcloud_plot_assets/three.min.js\n",
      " create mode 100644 notebooks/reconstructed.ply\n",
      " create mode 100644 notebooks/slam_sem1.ipynb\n",
      " create mode 160000 notebooks/stereo_calibration\n",
      " create mode 100644 presentations/cv_sem2.pdf\n",
      " create mode 100644 presentations/nn_inside.pdf\n",
      " create mode 100644 presentations/nn_intro.pdf\n",
      " create mode 100644 presentations/nn_training.pdf\n"
     ]
    }
   ],
   "source": [
    "!git merge update_readme"
   ]
  },
  {
   "cell_type": "code",
   "execution_count": 5,
   "metadata": {},
   "outputs": [
    {
     "name": "stdout",
     "output_type": "stream",
     "text": [
      "M\tgithub_hw1.ipynb"
     ]
    },
    {
     "name": "stderr",
     "output_type": "stream",
     "text": [
      "Already on 'develop'\n"
     ]
    },
    {
     "name": "stdout",
     "output_type": "stream",
     "text": [
      "\n",
      "Your branch is up to date with 'origin/develop'.\n"
     ]
    },
    {
     "name": "stderr",
     "output_type": "stream",
     "text": [
      "warning: LF will be replaced by CRLF in github_hw1.ipynb.\n",
      "The file will have its original line endings in your working directory\n"
     ]
    }
   ],
   "source": [
    "# Ребята, задача плохо продумана! Тетрадка оказывается вне репозитория! Её надо руками переносить!\n",
    "!git checkout develop\n",
    "!git add github_hw1.ipynb"
   ]
  },
  {
   "cell_type": "code",
   "execution_count": 9,
   "metadata": {},
   "outputs": [
    {
     "name": "stdout",
     "output_type": "stream",
     "text": [
      "On branch develop\n",
      "Your branch is up to date with 'origin/develop'.\n",
      "\n",
      "Changes not staged for commit:\n",
      "  (use \"git add <file>...\" to update what will be committed)\n",
      "  (use \"git restore <file>...\" to discard changes in working directory)\n",
      "\tmodified:   github_hw1.ipynb\n",
      "\n",
      "no changes added to commit (use \"git add\" and/or \"git commit -a\")\n"
     ]
    }
   ],
   "source": [
    "!git commit -m \"добавил тетрадку hw1\""
   ]
  },
  {
   "cell_type": "code",
   "execution_count": 7,
   "metadata": {},
   "outputs": [
    {
     "name": "stderr",
     "output_type": "stream",
     "text": [
      "To https://github.com/chudo9991/cvr_course.git\n",
      "   c69bbba..14c3d61  develop -> develop\n"
     ]
    }
   ],
   "source": [
    "!git push"
   ]
  },
  {
   "cell_type": "code",
   "execution_count": 10,
   "metadata": {},
   "outputs": [
    {
     "name": "stderr",
     "output_type": "stream",
     "text": [
      "error: Your local changes to the following files would be overwritten by checkout:\n",
      "\tgithub_hw1.ipynb\n",
      "Please commit your changes or stash them before you switch branches.\n",
      "Aborting\n"
     ]
    }
   ],
   "source": [
    "!git checkout main"
   ]
  },
  {
   "cell_type": "code",
   "execution_count": 19,
   "metadata": {},
   "outputs": [
    {
     "name": "stdout",
     "output_type": "stream",
     "text": [
      "Updating 5d1ebed..8a03c87\n",
      "Fast-forward\n",
      " README.md | 1 +\n",
      " 1 file changed, 1 insertion(+)\n"
     ]
    }
   ],
   "source": [
    "!git merge develop"
   ]
  },
  {
   "cell_type": "code",
   "execution_count": 20,
   "metadata": {},
   "outputs": [
    {
     "name": "stderr",
     "output_type": "stream",
     "text": [
      "To https://github.com/chudo9991/cvr_course.git\n",
      "   5d1ebed..8a03c87  main -> main\n"
     ]
    }
   ],
   "source": [
    "!git push"
   ]
  }
 ],
 "metadata": {
  "colab": {
   "name": "github_hw1.ipynb",
   "provenance": []
  },
  "kernelspec": {
   "display_name": "Python 3.9.2 64-bit",
   "language": "python",
   "name": "python3"
  },
  "language_info": {
   "codemirror_mode": {
    "name": "ipython",
    "version": 3
   },
   "file_extension": ".py",
   "mimetype": "text/x-python",
   "name": "python",
   "nbconvert_exporter": "python",
   "pygments_lexer": "ipython3",
   "version": "3.9.2"
  },
  "vscode": {
   "interpreter": {
    "hash": "81794d4967e6c3204c66dcd87b604927b115b27c00565d3d43f05ba2f3a2cb0d"
   }
  }
 },
 "nbformat": 4,
 "nbformat_minor": 1
}
